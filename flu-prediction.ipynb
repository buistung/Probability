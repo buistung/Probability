{
 "cells": [
  {
   "cell_type": "code",
   "execution_count": 1,
   "metadata": {},
   "outputs": [],
   "source": [
    "import numpy as np\n",
    "import pandas as pd"
   ]
  },
  {
   "cell_type": "code",
   "execution_count": 4,
   "metadata": {},
   "outputs": [],
   "source": [
    "data = pd.DataFrame({\n",
    "    \"Fever\": [\"High\", \"High\", \"High\", \"Low\", \"High\", \"Low\", \"Low\", \"High\", \"Low\", \"High\"],\n",
    "    \"Cough\": [\"Yes\", \"No\", \"Yes\", \"Yes\", \"Yes\", \"Yes\", \"No\", \"No\", \"No\", \"Yes\"],\n",
    "    \"SoreThroat\": [\"Yes\", \"Yes\", \"No\", \"Yes\", \"Yes\", \"No\", \"No\", \"Yes\", \"No\", \"Yes\"],\n",
    "    \"Fatigue\": [\"No\", \"No\", \"No\", \"No\", \"No\", \"Yes\", \"Yes\", \"Yes\", \"No\", \"Yes\"],\n",
    "    \"Flu\": [\"Yes\", \"Yes\", \"No\", \"No\", \"Yes\", \"No\", \"No\", \"No\", \"No\", \"Yes\"]\n",
    "})\n",
    "\n",
    "new_patient  = {\n",
    "    'Fever': 'High',\n",
    "    'Cough': 'Yes',\n",
    "    'SoreThroat': 'Yes',\n",
    "    'Fatigue': 'No'\n",
    "}\n",
    "\n",
    "p_flu = data['Flu'].value_counts(normalize=True)['Yes']\n",
    "p_not_flu = 1 - p_flu"
   ]
  },
  {
   "cell_type": "code",
   "execution_count": 5,
   "metadata": {},
   "outputs": [],
   "source": [
    "def conditional_prob(feature,value,flu_status):\n",
    "    subset = data[data['Flu'] == flu_status]\n",
    "    count = subset[feature].value_counts().get(value,0)\n",
    "    total = len(subset)\n",
    "    unique_values = data[feature].nunique()\n",
    "    smoothed_prob = (count + 1) / (total + unique_values)\n",
    "\n",
    "    return smoothed_prob\n",
    "\n",
    "P_X_given_flu = 1\n",
    "P_X_given_not_flu = 1\n",
    "\n",
    "for feature, value in new_patient.items():\n",
    "    P_X_given_flu *= conditional_prob(feature,value,'Yes')\n",
    "    P_X_given_not_flu *= conditional_prob(feature,value,'No')\n",
    "\n",
    "numerator_flu = P_X_given_flu * p_flu\n",
    "numerator_not_flu = P_X_given_not_flu * p_not_flu\n",
    "\n",
    "total = numerator_flu + numerator_not_flu\n",
    "p_flu_given_X = numerator_flu / total\n",
    "p_not_flu_given_X = numerator_not_flu / total"
   ]
  },
  {
   "cell_type": "code",
   "execution_count": 7,
   "metadata": {},
   "outputs": [
    {
     "name": "stdout",
     "output_type": "stream",
     "text": [
      "\n",
      "**Naive Bayes Results:**\n",
      "P(Flu=Yes | X) = 0.8541\n",
      "P(Flu=No  | X) = 0.1459\n",
      "\n",
      "**Conclusion:**\n",
      "The patient is likely to have the flu.\n"
     ]
    }
   ],
   "source": [
    "print(\"\\n**Naive Bayes Results:**\")\n",
    "print(f\"P(Flu=Yes | X) = {p_flu_given_X:.4f}\")\n",
    "print(f\"P(Flu=No  | X) = {p_not_flu_given_X:.4f}\")\n",
    "\n",
    "print(\"\\n**Conclusion:**\")\n",
    "print(\"The patient is likely to have the flu.\" if p_flu_given_X > p_not_flu_given_X \n",
    "      else \"The patient is NOT likely to have the flu.\")"
   ]
  },
  {
   "cell_type": "code",
   "execution_count": null,
   "metadata": {},
   "outputs": [],
   "source": []
  },
  {
   "cell_type": "code",
   "execution_count": null,
   "metadata": {},
   "outputs": [],
   "source": []
  }
 ],
 "metadata": {
  "kernelspec": {
   "display_name": "base",
   "language": "python",
   "name": "python3"
  },
  "language_info": {
   "codemirror_mode": {
    "name": "ipython",
    "version": 3
   },
   "file_extension": ".py",
   "mimetype": "text/x-python",
   "name": "python",
   "nbconvert_exporter": "python",
   "pygments_lexer": "ipython3",
   "version": "3.12.7"
  }
 },
 "nbformat": 4,
 "nbformat_minor": 2
}
